{
 "cells": [
  {
   "cell_type": "markdown",
   "metadata": {},
   "source": [
    "# Programming in Python\n",
    "\n",
    "This notebook offers an introduction to progamming in the Python language. It's impossible to cover it all in a single notebook (or a single class!); however, this notebook highlights core aspects of Python that are important for this class. I highly recommend the (free and online!) book <a href=https://python.swaroopch.com/><i>A Byte of Python</i></a> if you would like to further study the ideas outlined in this notebook.\n",
    "\n",
    "## Hello world!\n",
    "\n",
    "As is customary when learning a new programming language, we can start a hello world program:"
   ]
  },
  {
   "cell_type": "code",
   "execution_count": null,
   "metadata": {},
   "outputs": [],
   "source": [
    "print(\"hello world!\")"
   ]
  },
  {
   "cell_type": "markdown",
   "metadata": {},
   "source": [
    "We can also use single quotes to specify a string:"
   ]
  },
  {
   "cell_type": "code",
   "execution_count": null,
   "metadata": {},
   "outputs": [],
   "source": [
    "print('hello world!')"
   ]
  },
  {
   "cell_type": "markdown",
   "metadata": {},
   "source": [
    "## Comments\n",
    "\n",
    "It is absolutely essential to comment your code when writing a program in any language and this is no different for Python. You can easily add inline and multi-line comments in Python. Consider the following inline comments:"
   ]
  },
  {
   "cell_type": "code",
   "execution_count": null,
   "metadata": {},
   "outputs": [],
   "source": [
    "# You can put a comment on a newline\n",
    "print('I love you Python.') # You can also put a comment here"
   ]
  },
  {
   "cell_type": "markdown",
   "metadata": {},
   "source": [
    "The Python interpreter ignores everything after the hash symbol. Multi-line comments are specified using 3 consecutive quotation marks (either double or single quotes):"
   ]
  },
  {
   "cell_type": "code",
   "execution_count": null,
   "metadata": {},
   "outputs": [],
   "source": [
    "print('''Here is one of my all time favorite Trump\n",
    "tweets on climate change.''')\n",
    "\n",
    "#print('The concept of global warming was created by and for the Chinese in order to make U.S. manufacturing non-competitive.')"
   ]
  },
  {
   "cell_type": "markdown",
   "metadata": {},
   "source": [
    "For more on best practices regarding commenting code, see the <a href=\"https://google.github.io/styleguide/pyguide.html#Comments\">Google's Python style guide</a>. I will illustrate (you need to hold me to this!) these best practices throughout the course. In short, as outlined in the book <i>Byte of Python Use</i>, use as many useful comments as you can in your program to:\n",
    "* explain assumptions\n",
    "* explain important decisions\n",
    "* explain important details\n",
    "* explain problems you're trying to solve\n",
    "* explain problems you're trying to overcome in your program, etc.\n",
    "\n",
    "<a href=\"https://blog.codinghorror.com/code-tells-you-how-comments-tell-you-why/\">Code tells you how, comments should tell you why</a>."
   ]
  },
  {
   "cell_type": "markdown",
   "metadata": {},
   "source": [
    "## String methods and concatenation\n",
    "\n",
    "Strings -- sequences of characters -- are obviously important when dealing with text data. We have already seen how to specify a string in Python, using both single and double quotation marks. (<b>Note</b>: I tend to use single quotes, as this is easier on my keyboard. You can use whichever you like best; however, be consistent.) Strings also have a number of \"methods\" that will prove useful throughout the term. For instance, say that we want to convert a string to all lowercase:"
   ]
  },
  {
   "cell_type": "code",
   "execution_count": null,
   "metadata": {},
   "outputs": [],
   "source": [
    "print('University of Exeter'.lower())"
   ]
  },
  {
   "cell_type": "markdown",
   "metadata": {},
   "source": [
    "Or all uppercase letters,"
   ]
  },
  {
   "cell_type": "code",
   "execution_count": null,
   "metadata": {},
   "outputs": [],
   "source": [
    "'University of Exeter'.upper()"
   ]
  },
  {
   "cell_type": "markdown",
   "metadata": {},
   "source": [
    "Another method that we will rely on heavily throughout the course is the <b><span style=\"color:green\">split()</span></b> method,"
   ]
  },
  {
   "cell_type": "code",
   "execution_count": null,
   "metadata": {},
   "outputs": [],
   "source": [
    "'University of Exeter'.split(' ')"
   ]
  },
  {
   "cell_type": "code",
   "execution_count": null,
   "metadata": {},
   "outputs": [],
   "source": [
    "len('University of Exeter'.split(' '))"
   ]
  },
  {
   "cell_type": "markdown",
   "metadata": {},
   "source": [
    "Here, we \"split\" the string based on space (i.e., the ' '). There are a bunch of other string methods (see this <a href=\"https://www.shortcutfoo.com/app/dojos/python-strings/cheatsheet\">cheatsheet</a> for more information) and we will use several of these methods throughout the course. We will often want to combine (or concatenate) strings together."
   ]
  },
  {
   "cell_type": "code",
   "execution_count": null,
   "metadata": {},
   "outputs": [],
   "source": [
    "# This code illustrates one way to concatenate a string\n",
    "'data' + 'science'"
   ]
  },
  {
   "cell_type": "code",
   "execution_count": null,
   "metadata": {},
   "outputs": [],
   "source": [
    "'data' + ' ' + 'science'"
   ]
  },
  {
   "cell_type": "code",
   "execution_count": null,
   "metadata": {
    "scrolled": true
   },
   "outputs": [],
   "source": [
    "'data ' + 'science'"
   ]
  },
  {
   "cell_type": "markdown",
   "metadata": {},
   "source": [
    "You can also use the \"format\" strings in Python 3 to insert/concatenate a string. "
   ]
  },
  {
   "cell_type": "code",
   "execution_count": null,
   "metadata": {},
   "outputs": [],
   "source": [
    "term1 = 'analyst'\n",
    "term2 = 'sexy'\n",
    "print(f'Data {term1} is the new {term2} job.')"
   ]
  },
  {
   "cell_type": "markdown",
   "metadata": {},
   "source": [
    "## Numbers\n",
    "\n",
    "Here is the description of numbers in <i>A Byte of Python</i>:\n",
    "\n",
    "\"Numbers are mainly of two types -- integers and floats.\n",
    "An example of an integer is 2 which is just a whole number.\n",
    "Examples of floating point numbers (or floats for short) are 3.23 and 52.3E-4. The E notation indicates powers of 10. In this case, 52.3E-4 means 52.3 * 10^-4^.\"\n",
    "\n",
    "That pretty much sums it up!"
   ]
  },
  {
   "cell_type": "markdown",
   "metadata": {},
   "source": [
    "## Variables and operators\n",
    "\n",
    "Often, we want to store numbers in strings in variables and perform \"operations\" on those <b>variables</b>. "
   ]
  },
  {
   "cell_type": "code",
   "execution_count": null,
   "metadata": {},
   "outputs": [],
   "source": [
    "# Assigning variables is easy in Python\n",
    "a = 'data'\n",
    "b = 'science'\n",
    "\n",
    "# And we can 'do things' with these variables\n",
    "a + b"
   ]
  },
  {
   "cell_type": "code",
   "execution_count": null,
   "metadata": {},
   "outputs": [],
   "source": [
    "# Works the same way for numbers\n",
    "c = 2\n",
    "d = 4\n",
    "\n",
    "# And we can add these variables\n",
    "c + d"
   ]
  },
  {
   "cell_type": "code",
   "execution_count": null,
   "metadata": {},
   "outputs": [],
   "source": [
    "# We can also assign a new variable based on an operation\n",
    "x = c + d\n",
    "print(x)"
   ]
  },
  {
   "cell_type": "markdown",
   "metadata": {},
   "source": [
    "Be careful, however, when trying to mix types:"
   ]
  },
  {
   "cell_type": "code",
   "execution_count": null,
   "metadata": {},
   "outputs": [],
   "source": [
    "# Try to concatenate a string and an integer\n",
    "a + c"
   ]
  },
  {
   "cell_type": "code",
   "execution_count": null,
   "metadata": {},
   "outputs": [],
   "source": [
    "# Instead, we need to preform the operation using consistent types\n",
    "a + str(c)"
   ]
  },
  {
   "cell_type": "markdown",
   "metadata": {},
   "source": [
    "### Operators\n",
    "\n",
    "Python includes all of the arithmetic (for integers and floats), relational, and logical operators that you will need (<a href=\"https://www.tutorialspoint.com/python/python_basic_operators.htm\">click here for a complete list of operators</a>). Let's look at the main <b>arithmetic</b> operators."
   ]
  },
  {
   "cell_type": "code",
   "execution_count": null,
   "metadata": {},
   "outputs": [],
   "source": [
    "3 + 5 # addition"
   ]
  },
  {
   "cell_type": "code",
   "execution_count": null,
   "metadata": {},
   "outputs": [],
   "source": [
    "3 - 5 # subtraction"
   ]
  },
  {
   "cell_type": "code",
   "execution_count": null,
   "metadata": {},
   "outputs": [],
   "source": [
    "3 * 5 # multiplication"
   ]
  },
  {
   "cell_type": "code",
   "execution_count": null,
   "metadata": {},
   "outputs": [],
   "source": [
    "3 / 5 # division"
   ]
  },
  {
   "cell_type": "markdown",
   "metadata": {},
   "source": [
    "There are a number of other arithmetic operators that we could run into throughout the term, such as:\n",
    "\n",
    "* Power: ``` 5 ** 3 ``` outputs ``` 125 ```.\n",
    "* Modulo: ``` 100 % 10 ``` outputs ```0```.\n",
    "* And so on and so forth (again, see (<a href=\"https://www.tutorialspoint.com/python/python_basic_operators.htm\">here</a> for more info)"
   ]
  },
  {
   "cell_type": "markdown",
   "metadata": {},
   "source": [
    "We will also often make use of <b>relational</b> operators. For instance, the relational \"equals\" operator is important for testing the equality between two objects:"
   ]
  },
  {
   "cell_type": "code",
   "execution_count": null,
   "metadata": {},
   "outputs": [],
   "source": [
    "a = 2\n",
    "b = 3\n",
    "\n",
    "# Are a and b equal?\n",
    "a == b"
   ]
  },
  {
   "cell_type": "code",
   "execution_count": null,
   "metadata": {},
   "outputs": [],
   "source": [
    "# And if we re-assign variable a to 3?\n",
    "a = 3\n",
    "a == b"
   ]
  },
  {
   "cell_type": "markdown",
   "metadata": {},
   "source": [
    "Here are the other relational operators that we will use:\n",
    "\n",
    "* `!=` (not equal to)\n",
    "* `<`  (less than)\n",
    "* `>`  (greater than)\n",
    "* `<=` (less than or equal to)\n",
    "* `>=` (greater than or equal to)\n",
    "\n",
    "Finally, Python also provides a set of <b>logical</b> and <b>membership</b> operators:\n",
    "\n",
    "* `and` (boolean AND)\n",
    "* `or`  (boolean OR)\n",
    "* `not` (boolean NOT)\n",
    "* `in` (membership)\n",
    "\n",
    "So, for instance,\n"
   ]
  },
  {
   "cell_type": "code",
   "execution_count": null,
   "metadata": {},
   "outputs": [],
   "source": [
    "a and b == 3"
   ]
  },
  {
   "cell_type": "code",
   "execution_count": null,
   "metadata": {},
   "outputs": [],
   "source": [
    "tokens = 'University of Exeter'.split(' ')"
   ]
  },
  {
   "cell_type": "code",
   "execution_count": null,
   "metadata": {},
   "outputs": [],
   "source": [
    "'Exeter' in tokens"
   ]
  },
  {
   "cell_type": "code",
   "execution_count": null,
   "metadata": {},
   "outputs": [],
   "source": [
    "'exeter' in 'University of Exeter'.lower()"
   ]
  },
  {
   "cell_type": "code",
   "execution_count": null,
   "metadata": {},
   "outputs": [],
   "source": [
    "'Travis' in 'University of Exeter'.split(' ')"
   ]
  },
  {
   "cell_type": "markdown",
   "metadata": {},
   "source": [
    "We will also occasionally use the following <b>assignment</b> operator to increment counter (more on this when we get to \"loops\"),"
   ]
  },
  {
   "cell_type": "code",
   "execution_count": null,
   "metadata": {},
   "outputs": [],
   "source": [
    "# Assignment for i\n",
    "i = 0\n",
    "print(i)\n",
    "\n",
    "# Increment i by 1\n",
    "i -= 2\n",
    "\n",
    "print(i)"
   ]
  },
  {
   "cell_type": "markdown",
   "metadata": {},
   "source": [
    "## Control flow\n",
    "\n",
    "For simple programs -- such as those outlined in the code above -- executing code from top to bottom works just fine. However, for everything else, we will need a bit more control. This is where <b>control flow</b> statements come in handy. In this section, we will introduce Python's three control flow statements: `if`, `for`, and `while`.\n",
    "\n",
    "### The `if` statement\n",
    "\n",
    "The value of the various logical and relational operators outlined above really come into focus when combined with the `if` statment in Python. Let's take a look at several examples.\n",
    "\n",
    "<b>Example 1</b>: Simple if/else statement. Check whether our Trump tweet includes the phrase \"global warming.\""
   ]
  },
  {
   "cell_type": "code",
   "execution_count": null,
   "metadata": {},
   "outputs": [],
   "source": [
    "# Initialize our program\n",
    "keyword = 'global'\n",
    "tweet = 'The concept of global warming was created by and for the Chinese in order to make U.S. manufacturing non-competitive.'\n",
    "\n",
    "if keyword in tweet.lower():\n",
    "    print(f'Found {keyword} in tweet.')\n",
    "else:\n",
    "    print(f'Could not find {keyword} in tweet')"
   ]
  },
  {
   "cell_type": "markdown",
   "metadata": {},
   "source": [
    "<b>Example 2</b>: Nested if/else statements. First, check if the string has 140 or fewer characters (i.e., consistent with Twitter limits). If this is true, check whether our Trump tweet includes the phrase \"global warming.\""
   ]
  },
  {
   "cell_type": "code",
   "execution_count": null,
   "metadata": {},
   "outputs": [],
   "source": [
    "# Initialize our program\n",
    "keyword = 'global warming'\n",
    "tweet = 'The concept of global warming was created by and for the Chinese in order to make U.S. manufacturing non-competitive.'\n",
    "\n",
    "if len(tweet) <= 140:\n",
    "    if keyword in tweet:\n",
    "        print(f'Found {keyword} in tweet')\n",
    "    else:\n",
    "        print(f'Could not find {keyword} in tweet')\n",
    "else:\n",
    "    print('Not a tweet!')"
   ]
  },
  {
   "cell_type": "markdown",
   "metadata": {},
   "source": [
    "### The `for` loop\n",
    "\n",
    "We often want to make repeated calculations and this is where the idea of a \"loop\" comes in. Let's start by taking a look at a `for` loop, which allows you to <i>iterate over a sequence of objects</i>."
   ]
  },
  {
   "cell_type": "code",
   "execution_count": null,
   "metadata": {},
   "outputs": [],
   "source": [
    "# Split (or tokenize) the Trump tweet into words\n",
    "tweet = 'The concept of global warming was created by and for the Chinese in order to make U.S. manufacturing non-competitive.'\n",
    "words = tweet.split(' ')\n",
    "\n",
    "# Iterate over the sequence of words and print\n",
    "for word in words:\n",
    "    print(word.lower())"
   ]
  },
  {
   "cell_type": "code",
   "execution_count": null,
   "metadata": {},
   "outputs": [],
   "source": [
    "words[0:3]"
   ]
  },
  {
   "cell_type": "markdown",
   "metadata": {},
   "source": [
    "The variable \"word\" holds each object in the sequence, one at a time. Note that you can name this anything you want (e.g., 'travis' or 'token' or whatever)."
   ]
  },
  {
   "cell_type": "code",
   "execution_count": null,
   "metadata": {},
   "outputs": [],
   "source": [
    "for trav in words:\n",
    "    print(trav.lower())"
   ]
  },
  {
   "cell_type": "markdown",
   "metadata": {},
   "source": [
    "As another example, say that we wanted to iterate over the numbers 0 to 9. How can we do this in Python?"
   ]
  },
  {
   "cell_type": "code",
   "execution_count": null,
   "metadata": {},
   "outputs": [],
   "source": [
    "list(range(len(words)))"
   ]
  },
  {
   "cell_type": "code",
   "execution_count": null,
   "metadata": {
    "scrolled": true
   },
   "outputs": [],
   "source": [
    "# The xrange() function creates the \"sequence of objects\" to iterate over. \n",
    "# By default, xrange() iterates from 0 in increments of 1.\n",
    "tweet = 'The concept of global warming was created by and for the Chinese in order to make U.S. manufacturing non-competitive.'\n",
    "words = tweet.split(' ')\n",
    "\n",
    "for i in range(len(words)):\n",
    "    print(i, words[i])"
   ]
  },
  {
   "cell_type": "code",
   "execution_count": null,
   "metadata": {},
   "outputs": [],
   "source": [
    "range(10)"
   ]
  },
  {
   "cell_type": "markdown",
   "metadata": {},
   "source": [
    "Iterating over lists of objects (such as our words above) or numbers is a common task. Sometimes you want to iterate over a list of objects AND keep a counter to track here you are in the list. This is where the `enumerate` function comes in handy.\n",
    "\n",
    "<b>Example 3</b>: The `enumerate` function. Print the first 5 words in our Trump tweet."
   ]
  },
  {
   "cell_type": "code",
   "execution_count": null,
   "metadata": {},
   "outputs": [],
   "source": [
    "tweet = 'The concept of global warming was created by and for the Chinese in order to make U.S. manufacturing non-competitive.'\n",
    "words = tweet.split(' ')\n",
    "\n",
    "for i, word in enumerate(words):\n",
    "    print(i, word, 'trump')"
   ]
  },
  {
   "cell_type": "markdown",
   "metadata": {},
   "source": [
    "We can also get the same answer without the `enumerate` function by instead `xrange` and iterating over the \"words\" list:"
   ]
  },
  {
   "cell_type": "code",
   "execution_count": null,
   "metadata": {},
   "outputs": [],
   "source": [
    "for i, word in enumerate(words):\n",
    "    if i < 5:\n",
    "        print(word)\n",
    "    else:\n",
    "        break"
   ]
  },
  {
   "cell_type": "markdown",
   "metadata": {},
   "source": [
    "Need to explain break"
   ]
  },
  {
   "cell_type": "markdown",
   "metadata": {},
   "source": [
    "### The `while` loop\n",
    "\n",
    "Whenever possible, it is good to use a `for` loop to iterate over sequences. However, there are times when you do not know the length of the sequence you are iterating over ahead of time. This is when a `while` loop useful. Let's revist <b>Example 3</b>, but this time using a `while` loop."
   ]
  },
  {
   "cell_type": "code",
   "execution_count": null,
   "metadata": {},
   "outputs": [],
   "source": [
    "# We need to initialize a counter to hold our iterations\n",
    "i = 0\n",
    "\n",
    "while i < len(words):\n",
    "    print(words[i])\n",
    "    # Need to update the counter. Otherwise, we get trapped in an\n",
    "    # \"infinite loop\"!\n",
    "    i += 1"
   ]
  },
  {
   "cell_type": "markdown",
   "metadata": {},
   "source": [
    "## Exceptions\n",
    "\n",
    "Sometimes we need to catch errors before they happen. We do so using ``try`` and ``except`` in Python (see <a href=\"https://python.swaroopch.com/exceptions.html\"><i>Byte of Python</i> on Excpections</a> for more information). For instance, consider the following ``while`` loop:"
   ]
  },
  {
   "cell_type": "code",
   "execution_count": null,
   "metadata": {},
   "outputs": [],
   "source": [
    "# Initialize counter\n",
    "i = 0\n",
    "\n",
    "# This is called an infinite loop -- be careful!\n",
    "while True:\n",
    "    print(words[i])\n",
    "    i += 1"
   ]
  },
  {
   "cell_type": "markdown",
   "metadata": {},
   "source": [
    "Once we run out of words, the code breaks -- it errors out with a ``IndexError``. If we ran into this error in one of our programs, the program would stop executing. Instead, we can \"catch\" the error, using a ``try`` and ``except`` sequence:"
   ]
  },
  {
   "cell_type": "code",
   "execution_count": null,
   "metadata": {},
   "outputs": [],
   "source": [
    "# Initialize counter\n",
    "i = 0\n",
    "\n",
    "# This is called an infinite loop -- be careful!\n",
    "while True:\n",
    "    # Try to print a word\n",
    "    try:\n",
    "        print(words[i])\n",
    "        i += 1\n",
    "    # Raise an exepction if the code errors out\n",
    "    except:\n",
    "        print('We ran out of words!')\n",
    "        break"
   ]
  },
  {
   "cell_type": "markdown",
   "metadata": {},
   "source": [
    "This code, instead, catches the error -- our program could continue doing other things if we wanted. There are times when catching errors can be super helpful."
   ]
  },
  {
   "cell_type": "markdown",
   "metadata": {},
   "source": [
    "## Functions\n",
    "\n",
    "Often when writing programs and doing analysis, we want to reuse pieces (or blocks) of code. We do so by declaring a function using the `def` statement. We have already used several of Python's built-in functions earlier in this tutoral. For instance, we \"called\" the `len` function to get the number of characters in a string. Python, however, makes it super easy to define your own functions.\n",
    "\n",
    "<b>Example 4</b>: Looking up words in a tweet, any tweet. We can extend our code in <b>Example 1</b> to make it reusable for any tweet by defining a function."
   ]
  },
  {
   "cell_type": "code",
   "execution_count": null,
   "metadata": {},
   "outputs": [],
   "source": [
    "tweet = 'The concept of global warming was created by and for the Chinese in order to make U.S. manufacturing non-competitive.'\n",
    "\n",
    "def lookup(tweet, keyword='global warming'):\n",
    "    '''This function takes a tweet and keyword, and returns True if the \n",
    "       keyword is present and False otherwise '''\n",
    "    \n",
    "    #print('Is %s found in the tweet?' % keyword)\n",
    "    \n",
    "    if keyword in tweet:\n",
    "        return True\n",
    "    else:\n",
    "        return False"
   ]
  },
  {
   "cell_type": "code",
   "execution_count": null,
   "metadata": {},
   "outputs": [],
   "source": [
    "print(lookup(tweet, 'travis'))"
   ]
  },
  {
   "cell_type": "code",
   "execution_count": null,
   "metadata": {},
   "outputs": [],
   "source": [
    "lookup(tweet, keyword)"
   ]
  },
  {
   "cell_type": "markdown",
   "metadata": {},
   "source": [
    "Our function above illustrates features that most functions have:\n",
    "\n",
    "* <b> Parameters </b>: `keyword` and `tweet` are parameters in our function (i.e., information sent to the function that it needs to run).\n",
    "* <b> Return value(s) </b>: Most, but not all, functions return a value (or set of values).\n",
    "* <b> Doc string </b>: String explaining what the function does (i.e., \"documenting\" the function), which appears just under the function definition.\n",
    "\n",
    "Doc strings are helpful, as they allow a user (including yourself!) to get help on what the function does:"
   ]
  },
  {
   "cell_type": "code",
   "execution_count": null,
   "metadata": {},
   "outputs": [],
   "source": [
    "help(lookup)"
   ]
  },
  {
   "cell_type": "markdown",
   "metadata": {},
   "source": [
    "We can also specify <b>default values for parameters</b>. For instance, we can add the following:"
   ]
  },
  {
   "cell_type": "code",
   "execution_count": null,
   "metadata": {},
   "outputs": [],
   "source": [
    "def lookup(tweet, keyword = 'covfefe'):\n",
    "    '''This function takes a tweet and keyword, and returns True if the \n",
    "       keyword is present and False otherwise '''\n",
    "    \n",
    "    print('Is %s found in the tweet?' % keyword)\n",
    "    \n",
    "    if keyword in tweet:\n",
    "        return True\n",
    "    else:\n",
    "        return False"
   ]
  },
  {
   "cell_type": "code",
   "execution_count": null,
   "metadata": {},
   "outputs": [],
   "source": [
    "lookup(tweet)"
   ]
  },
  {
   "cell_type": "code",
   "execution_count": null,
   "metadata": {},
   "outputs": [],
   "source": [
    "lookup(tweet, keyword='global warming')"
   ]
  },
  {
   "cell_type": "markdown",
   "metadata": {},
   "source": [
    "Your functions can get quite complex and you can even inlude an <a href=https://www.geeksforgeeks.org/args-kwargs-python/>arbitrary number of arguments</a>. However, we are not going to worry about the complexities at this point. And don't worry, we will be using functions throughout this course, so you will get many (many!) opportunities to practice their use (for more on functions, click <a href = \"https://python.swaroopch.com/functions.html\">here</a>)."
   ]
  },
  {
   "cell_type": "markdown",
   "metadata": {},
   "source": [
    "## Data structures\n",
    "\n",
    "Python offers a number of alternatives (or \"structures\") for storing data. There are four built-in data structures: `list`, `dict`, `tuple`, and `set`. We will look at each of these in turn.\n",
    "\n",
    "### Lists\n",
    "\n",
    "A list is just that -- a list of objects. These \"objects\" can be numbers, strings, and even other data structures. For instance, when we \"split\" the Trump tweet above into seperate words, Python returnd a list:"
   ]
  },
  {
   "cell_type": "code",
   "execution_count": null,
   "metadata": {},
   "outputs": [],
   "source": [
    "words = tweet.split(' ')\n",
    "print(words)\n",
    "print(len(words))"
   ]
  },
  {
   "cell_type": "markdown",
   "metadata": {},
   "source": [
    "This list has 19 elements and we can lookup a particular element in the list using the appropriate index. Once again, note that Python indexes lists starting at 0, and moves right to left. So if we wanted to lookup the 5th element in this list, we would type:"
   ]
  },
  {
   "cell_type": "code",
   "execution_count": null,
   "metadata": {},
   "outputs": [],
   "source": [
    "print(words[-1])"
   ]
  },
  {
   "cell_type": "markdown",
   "metadata": {},
   "source": [
    "We can iterate over a list in the opposite direction by using negative indices. So to get the last and second to last word in the list, we could type:"
   ]
  },
  {
   "cell_type": "code",
   "execution_count": null,
   "metadata": {
    "scrolled": false
   },
   "outputs": [],
   "source": [
    "# Last word\n",
    "print(words[-1])\n",
    "\n",
    "# Second to last word\n",
    "print(words[-2])"
   ]
  },
  {
   "cell_type": "markdown",
   "metadata": {},
   "source": [
    "We can also `append` objects to the end of a list or `insert` objects into a list using an index:"
   ]
  },
  {
   "cell_type": "code",
   "execution_count": null,
   "metadata": {},
   "outputs": [],
   "source": [
    "# Add an additional word to the end of our list\n",
    "words.append('crazy')\n",
    "print(words)"
   ]
  },
  {
   "cell_type": "markdown",
   "metadata": {},
   "source": [
    "or `insert` an object based on an index:"
   ]
  },
  {
   "cell_type": "code",
   "execution_count": null,
   "metadata": {},
   "outputs": [],
   "source": [
    "# Add a word to the begining of the list\n",
    "words.insert(0, 'trump')\n",
    "print(words)"
   ]
  },
  {
   "cell_type": "markdown",
   "metadata": {},
   "source": [
    "Lists are super flexable and store just about anything. For example, we will often need to work with \"lists of lists\". "
   ]
  },
  {
   "cell_type": "code",
   "execution_count": null,
   "metadata": {},
   "outputs": [],
   "source": [
    "# Define a list to hold two Trump tweets\n",
    "tweets = [\"Let's continue to destroy the competitiveness of our factories & manufacturing so we can fight mythical global warming. China is so happy!\",\n",
    "          \"The concept of global warming was created by and for the Chinese in order to make U.S. manufacturing non-competitive.\"]\n",
    "\n",
    "# Loop over the \"tweets\" and tokenize\n",
    "tokenized_tweets = []\n",
    "for tweet in tweets:\n",
    "    tokenized_tweets.append(tweet.split(' '))\n",
    "\n",
    "print(tokenized_tweets)"
   ]
  },
  {
   "cell_type": "markdown",
   "metadata": {},
   "source": [
    "We can then access an individual element within our nested lists as follows:"
   ]
  },
  {
   "cell_type": "code",
   "execution_count": null,
   "metadata": {},
   "outputs": [],
   "source": [
    "# Get word 12 in tweet 2\n",
    "#print(tokenized_tweets[1][11])\n",
    "tokenized_tweets[0][-1]"
   ]
  },
  {
   "cell_type": "markdown",
   "metadata": {},
   "source": [
    "### List comprehension\n",
    "\n",
    "While we are on the subject of lists, it is good to introduce the idea of \"list comprehesnion\" in Python. I think of list comprehension as a special type of loop. This procedure takes a list, loops over it (typically modifying it in some way), and then returns a new list. The advantage of using list comprehension rather than, say, a `for loop` is that it often lead to efficient, easy to read code. Let's take a look."
   ]
  },
  {
   "cell_type": "code",
   "execution_count": null,
   "metadata": {},
   "outputs": [],
   "source": [
    "nums = [i for i in range(10)]\n",
    "print(nums)"
   ]
  },
  {
   "cell_type": "markdown",
   "metadata": {},
   "source": [
    "We could also do the same thing using a loop, but it's a bit long-winded:"
   ]
  },
  {
   "cell_type": "code",
   "execution_count": null,
   "metadata": {},
   "outputs": [],
   "source": [
    "nums = []\n",
    "for i in range(10):\n",
    "    nums.append(i)\n",
    "\n",
    "print(nums)"
   ]
  },
  {
   "cell_type": "markdown",
   "metadata": {},
   "source": [
    "Or take our tweet example above:"
   ]
  },
  {
   "cell_type": "code",
   "execution_count": null,
   "metadata": {},
   "outputs": [],
   "source": [
    "tweets = ['The concept of global warming was created by and for the Chinese in order to make U.S. manufacturing non-competitive.',\n",
    "          'This is also a tweet.']\n",
    "tokenized_tweets = [tweet.split(' ') for tweet in tweets]\n",
    "print(tokenized_tweets)"
   ]
  },
  {
   "cell_type": "markdown",
   "metadata": {},
   "source": [
    "We will see many more examples of using list comprehension in Python."
   ]
  },
  {
   "cell_type": "markdown",
   "metadata": {},
   "source": [
    "### Dictionaries\n",
    "\n",
    "In addition to lists, dictionaries are one of the most often used data structures in Python programs. As aptly described in <i>Byte of Python</i>, \n",
    "\n",
    "> \"A dictionary is like an address-book where you can find the address or contact details of a person by knowing only his/her name i.e. we associate <i>keys</i> (name) with <i>values</i> (details). Note that the key must be unique just like you cannot find out the correct information if you have two persons with the exact same name.\"\n",
    "\n",
    "How do dictionaries work in practice? Let's go back to the two tweets from Donald Trump above. Say that we wanted to store the `tweets` list along with a list of tweet IDs. We could do so using a dictionary as follows:"
   ]
  },
  {
   "cell_type": "code",
   "execution_count": null,
   "metadata": {},
   "outputs": [],
   "source": [
    "# Define a list of tweet ids\n",
    "ids = [1, 2]\n",
    "\n",
    "# Combine the ids and tweets into a dictionary\n",
    "tweets_dict = {'tweets': tweets, 'ids': ids}\n",
    "\n",
    "print(tweets_dict)"
   ]
  },
  {
   "cell_type": "markdown",
   "metadata": {},
   "source": [
    "And we can now call up each list using the `tweets_dict` and the relevant key."
   ]
  },
  {
   "cell_type": "code",
   "execution_count": null,
   "metadata": {},
   "outputs": [],
   "source": [
    "# Grab the ids to view\n",
    "print(tweets_dict['tweets'][0])"
   ]
  },
  {
   "cell_type": "markdown",
   "metadata": {},
   "source": [
    "As with lists, dictionaries are super flexable. I often store data as a list of dictionaries as follows:"
   ]
  },
  {
   "cell_type": "code",
   "execution_count": null,
   "metadata": {},
   "outputs": [],
   "source": [
    "tweets = [{'id': 1, \n",
    "           'tweet': \"Let's continue to destroy the competitiveness of our factories & manufacturing so we can fight mythical global warming. China is so happy!\"},\n",
    "          {'id': 2,\n",
    "           'tweet': \"The concept of global warming was created by and for the Chinese in order to make U.S. manufacturing non-competitive.\"}\n",
    "         ]\n"
   ]
  },
  {
   "cell_type": "markdown",
   "metadata": {},
   "source": [
    "This allows you to call up a particular tweet using the \"tweet\" key, instead of having to remember which index in a list holds the tweet element."
   ]
  },
  {
   "cell_type": "code",
   "execution_count": null,
   "metadata": {},
   "outputs": [],
   "source": [
    "for row in tweets:\n",
    "    row['tokens'] = row['tweet'].split(' ')"
   ]
  },
  {
   "cell_type": "code",
   "execution_count": null,
   "metadata": {},
   "outputs": [],
   "source": [
    "tweets[0]"
   ]
  },
  {
   "cell_type": "markdown",
   "metadata": {},
   "source": [
    "### Tuples\n",
    "\n",
    "I tend to use tuples less often then lists and dictionaries, but they are still quite useful in certain circumstances. You can think of a tuple as a stripped down version of a list, with the added feature that they are <a href=\"https://medium.com/@meghamohan/mutable-and-immutable-side-of-python-c2145cf72747\">immutable</a> (don't worry about this concept too much at this point). Basically, we can use tuples when we really, really want to objects to remain together and we don't want them to be changed.\n",
    "\n",
    "You define a tuple in a very similar way to a list:"
   ]
  },
  {
   "cell_type": "code",
   "execution_count": null,
   "metadata": {},
   "outputs": [],
   "source": [
    "tweet = (1, \"Let's continue to destroy the competitiveness of our factories & manufacturing so we can fight mythical global warming. China is so happy!\")\n",
    "print(tweet)"
   ]
  },
  {
   "cell_type": "markdown",
   "metadata": {},
   "source": [
    "We can still iterate over this tuple and call individual elments based on their index; however, their is no `append` or `insert` method for tuples. They are \"hard to change\" by design!"
   ]
  },
  {
   "cell_type": "markdown",
   "metadata": {},
   "source": [
    "### Sets\n",
    "\n",
    "A set is useful when you want a <i>unique</i>, unordered collection of Python objects. For example,"
   ]
  },
  {
   "cell_type": "code",
   "execution_count": null,
   "metadata": {},
   "outputs": [],
   "source": [
    "names = ['travis', 'travis', 'travis', 'riley', 'riley', 'dreolin']\n",
    "names_set = list(set(names))\n",
    "print(names_set)\n",
    "#names_set.append('ranu')\n",
    "#(names_set)"
   ]
  },
  {
   "cell_type": "code",
   "execution_count": null,
   "metadata": {},
   "outputs": [],
   "source": [
    "set(names)"
   ]
  },
  {
   "cell_type": "markdown",
   "metadata": {},
   "source": [
    "Where the use of sets really helps us is when checking for membership in a collection of objects. For instance, if I wanted to know whether 'travis' was includded in this list of names, I could use the membership operator above on the list of names directly:"
   ]
  },
  {
   "cell_type": "code",
   "execution_count": null,
   "metadata": {},
   "outputs": [],
   "source": [
    "print('travis' in names)"
   ]
  },
  {
   "cell_type": "markdown",
   "metadata": {},
   "source": [
    "However, when the list of names is large or you need to check for membership many times, it becomes much more efficient to do the following:"
   ]
  },
  {
   "cell_type": "code",
   "execution_count": null,
   "metadata": {},
   "outputs": [],
   "source": [
    "print('travis' in set(names))"
   ]
  },
  {
   "cell_type": "markdown",
   "metadata": {},
   "source": [
    "## Input and output \n",
    "\n",
    "Most of your scripts and programs will need to read and write data. Let's jump right in with an example of reading and writing a CSV file in Python using the  ``pandas`` library. After learning how to read and write a CSV formatted file, we will look at some other useful file formats.\n",
    "\n",
    "<b>Example 5</b>: Reading, processing, and then writing data. Open the trump_tweets_2017.csv file, flag tweets about \"fake news\", and write these tweets to disk.\n",
    "\n",
    "We need to start by downloading the trump_tweets_2017.csv data and store it a location that you can find. I downloaded it to the following folder on my machine: /Users/tcoan/git_repos/notebooks/data. If you want to avoid typing the entire (absolute) path each time you read and write data, you can set the working directory using the `os` module (similar to `setwd()` in **R**).\n"
   ]
  },
  {
   "cell_type": "code",
   "execution_count": null,
   "metadata": {},
   "outputs": [],
   "source": [
    "import os\n",
    "os.chdir('/Users/tcoan/git_repos/notebooks')"
   ]
  },
  {
   "cell_type": "markdown",
   "metadata": {},
   "source": [
    "Next, we use the `pandas` library to load the data. For example, this code will load our tweets CSV into a new data type unique to `pandas`: the \"data frame\". "
   ]
  },
  {
   "cell_type": "code",
   "execution_count": null,
   "metadata": {},
   "outputs": [],
   "source": [
    "import pandas as pd\n",
    "trump_df = pd.read_csv('data/trump_tweets_2017.csv')"
   ]
  },
  {
   "cell_type": "markdown",
   "metadata": {},
   "source": [
    "Like in **R**, we can look at the first couple of row by using the `head` method:"
   ]
  },
  {
   "cell_type": "code",
   "execution_count": null,
   "metadata": {},
   "outputs": [],
   "source": [
    "trump_df.head(10)"
   ]
  },
  {
   "cell_type": "markdown",
   "metadata": {},
   "source": [
    "This loads our tweets CSV into a new data type unique to pandas: the \"data frame\". Dataframes represent tabular data organized by variable (or what `pandas` refers to as \"series\"). Like in **R**, we can look at the first couple of row by using the head method:"
   ]
  },
  {
   "cell_type": "code",
   "execution_count": null,
   "metadata": {},
   "outputs": [],
   "source": [
    "trump_df.head() # prints the first 5 rows by default\n",
    "# You can print a different number of rows by passing\n",
    "# values to the head function:\n",
    "# trump_df.head(10)"
   ]
  },
  {
   "cell_type": "markdown",
   "metadata": {},
   "source": [
    "We can also look at the `tail` of the dataset:"
   ]
  },
  {
   "cell_type": "code",
   "execution_count": null,
   "metadata": {},
   "outputs": [],
   "source": [
    "trump_df.tail()"
   ]
  },
  {
   "cell_type": "markdown",
   "metadata": {},
   "source": [
    "There's a ton that you can do with `pandas` and there are many great [tutorials](https://www.learndatasci.com/tutorials/python-pandas-tutorial-complete-introduction-for-beginners/) online to become more familar with the library's power. For now, however, let's look at some of the most useful functions for \"getting to know\" your data:"
   ]
  },
  {
   "cell_type": "code",
   "execution_count": null,
   "metadata": {},
   "outputs": [],
   "source": [
    "# Get the shape of a dataframe (rows, columns)\n",
    "trump_df.shape"
   ]
  },
  {
   "cell_type": "code",
   "execution_count": null,
   "metadata": {},
   "outputs": [],
   "source": [
    "# Get the column (or variable) names\n",
    "trump_df.columns"
   ]
  },
  {
   "cell_type": "code",
   "execution_count": null,
   "metadata": {},
   "outputs": [],
   "source": [
    "# You can subset columns (or variables) in a dataframe by passing a list of variable names\n",
    "trump_df[['source', 'retweet_count']].head()"
   ]
  },
  {
   "cell_type": "code",
   "execution_count": null,
   "metadata": {},
   "outputs": [],
   "source": [
    "# You can get a frequency table using the value_counts() function:\n",
    "trump_df['source'].value_counts()"
   ]
  },
  {
   "cell_type": "code",
   "execution_count": null,
   "metadata": {},
   "outputs": [],
   "source": [
    "# And crosstabs using the crosstab() function:\n",
    "pd.crosstab(trump_df['source'], trump_df['is_retweet'])"
   ]
  },
  {
   "cell_type": "code",
   "execution_count": null,
   "metadata": {},
   "outputs": [],
   "source": [
    "# You can use pandas to get descriptive statistics for variables (or groups of variables)\n",
    "trump_df['retweet_count'].mean()"
   ]
  },
  {
   "cell_type": "code",
   "execution_count": null,
   "metadata": {},
   "outputs": [],
   "source": [
    "# And can pull back a handful of different descriptive statistics, using the \".agg()\" function:\n",
    "trump_df['retweet_count'].agg(['count', 'mean', 'median', 'std'])"
   ]
  },
  {
   "cell_type": "markdown",
   "metadata": {},
   "source": [
    "### Converting between `pandas` DataFrames and Python data structures\n",
    "\n",
    "When processing text, I like to use native Python data structures -- lists and dictionaries -- as they offer additional flexbility. Almost all of the code used to process and analyse text data that you see in this course assumes that our data are \"lists of dictionaries\". To convert from a dataframe to a list of dicionaries:"
   ]
  },
  {
   "cell_type": "code",
   "execution_count": null,
   "metadata": {},
   "outputs": [],
   "source": [
    "trump = trump_df.to_dict(orient=\"records\")"
   ]
  },
  {
   "cell_type": "markdown",
   "metadata": {},
   "source": [
    "The `trump` object is a list holding the tweets:"
   ]
  },
  {
   "cell_type": "code",
   "execution_count": null,
   "metadata": {},
   "outputs": [],
   "source": [
    "print(len(trump))"
   ]
  },
  {
   "cell_type": "markdown",
   "metadata": {},
   "source": [
    "And each element of the list is a dictionary with information on the tweet:"
   ]
  },
  {
   "cell_type": "code",
   "execution_count": null,
   "metadata": {},
   "outputs": [],
   "source": [
    "print(trump[0])"
   ]
  },
  {
   "cell_type": "markdown",
   "metadata": {},
   "source": [
    "So if we wanted the view the `text` for the 10th tweet in our dataset, we would use:"
   ]
  },
  {
   "cell_type": "code",
   "execution_count": null,
   "metadata": {},
   "outputs": [],
   "source": [
    "print(trump[9]['text'])"
   ]
  },
  {
   "cell_type": "markdown",
   "metadata": {},
   "source": [
    "We can also convert back to a `pandas` dataframe by using the `DataFrame()` function:"
   ]
  },
  {
   "cell_type": "code",
   "execution_count": null,
   "metadata": {},
   "outputs": [],
   "source": [
    "df = pd.DataFrame(trump)\n",
    "df.head()"
   ]
  },
  {
   "cell_type": "markdown",
   "metadata": {},
   "source": [
    "### Writing data using `pandas`\n",
    "\n",
    "Just as it's easy to **read** data using the `.read_` suite of functions, we can also use the `to_` set of functions to write data to disk. For instance, to write a CSV to disk taht only includes the `source` and `text` from the Trump tweets data:"
   ]
  },
  {
   "cell_type": "code",
   "execution_count": null,
   "metadata": {},
   "outputs": [],
   "source": [
    "trump_df[['source', 'text']].to_csv('data/source_text_trump.csv')"
   ]
  },
  {
   "cell_type": "markdown",
   "metadata": {},
   "source": [
    "### JSON formatted files\n",
    "\n",
    "Many APIs (e.g., the Twitter API) return JSON formatted files. <a href=\"https://en.wikipedia.org/wiki/JSON\">Wikipedia</a> describes JSON files as follows:\n",
    "\n",
    "> \"In computing, JavaScript Object Notation or JSON (/ˈdʒeɪsən/ JAY-sən) is an open-standard file format that uses human-readable text to transmit data objects consisting of attribute–value pairs and array data types (or any other serializable value). It is a very common data format used for asynchronous browser–server communication, including as a replacement for XML in some AJAX-style systems.\"\n",
    "\n",
    "The JSON file format looks a lot like a Python dictionary. For example,\n",
    "\n",
    "[\n",
    "   {\n",
    "      \"source\":\"Twitter for iPhone\",\n",
    "      \"text\":\"Jobs are kicking in and companies are coming back to the U.S. Unnecessary regulations and high taxes are being dramatically Cut, and it will only get better. MUCH MORE TO COME!,\n",
    "      \"created_at\":\"Sat Dec 30 22:42:09 +0000 2017\",\n",
    "      \"retweet_count\":24332,\n",
    "      \"favorite_count\":117013,\n",
    "      \"is_retweet\":false,\n",
    "      \"id_str\":\"947236393184628741\"\n",
    "   }\n",
    "]\n",
    "\n",
    "We load JSON files in Python using the ``json`` module. As an example, we can load the JSON version of the 2017 Trump Twitter data (again, stored on my system in /Users/tcoan/git_repos/notebooks/data):"
   ]
  },
  {
   "cell_type": "code",
   "execution_count": null,
   "metadata": {},
   "outputs": [],
   "source": [
    "import json\n",
    "\n",
    "# Read JSON formatted data\n",
    "with open('data/trump_tweets_2017.json', 'r', encoding='utf-8') as jfile:\n",
    "    jdata = json.load(jfile)\n",
    "\n",
    "jdata[0]"
   ]
  },
  {
   "cell_type": "code",
   "execution_count": null,
   "metadata": {},
   "outputs": [],
   "source": [
    "jdata[0].keys()"
   ]
  },
  {
   "cell_type": "markdown",
   "metadata": {},
   "source": [
    "We write (or dump) JSON files in the usual way. When writing JSON, I like to use a handful of additional options to the `json.dump`:"
   ]
  },
  {
   "cell_type": "code",
   "execution_count": null,
   "metadata": {},
   "outputs": [],
   "source": [
    "with open('data/pretty.json', 'w') as jfile:\n",
    "    json.dump(jdata[0:10], jfile, indent=4, separators=(',', ': '), sort_keys=True)\n",
    "    # Add trailing newline for POSIX compatibility\n",
    "    jfile.write('\\n')"
   ]
  },
  {
   "cell_type": "markdown",
   "metadata": {},
   "source": [
    "Again, you can also open JSON formatted files with `pandas`:"
   ]
  },
  {
   "cell_type": "code",
   "execution_count": null,
   "metadata": {},
   "outputs": [],
   "source": [
    "# Read a json file\n",
    "trump_df_json = pd.read_json('data/trump_tweets_2017.json')\n",
    "trump_df_json.head()"
   ]
  },
  {
   "cell_type": "markdown",
   "metadata": {},
   "source": [
    "### Pickle files\n",
    "\n",
    "The last file format that we will use are so-called \"pickle\" files. Here is how the <a href=\"https://docs.python.org/3/library/pickle.html\">Python docs describes pickling files</a>:\n",
    "\n",
    "> \"Pickling” is the process whereby a Python object hierarchy is converted into a byte stream, and “unpickling” is the inverse operation, whereby a byte stream (from a binary file or bytes-like object) is converted back into an object hierarchy. Pickling (and unpickling) is alternatively known as “serialization”, “marshalling,” or “flattening”; however, to avoid confusion, the terms used here are “pickling” and “unpickling.\"\n",
    "\n",
    "We read and write pickle files (surprise, surprise) using the `pickle` module. As an example, let's \"serialize\" our `jdata` file and write it to disk."
   ]
  },
  {
   "cell_type": "code",
   "execution_count": null,
   "metadata": {},
   "outputs": [],
   "source": [
    "import pickle\n",
    "\n",
    "with open('data/trump_tweets_2017.pkl', 'wb') as pfile:\n",
    "    pickle.dump(jdata, pfile)"
   ]
  },
  {
   "cell_type": "markdown",
   "metadata": {},
   "source": [
    "This creates a \"pickled\" file in the /home/tcoan directory. Pickle files are not human readable, but they are super useful because the preserve, exactly, the Python object that you are writing to disk. We can then, at a later point, load the same object back into Python for further analysis. For example, "
   ]
  },
  {
   "cell_type": "code",
   "execution_count": null,
   "metadata": {},
   "outputs": [],
   "source": [
    "tweets = pickle.load(open('data/trump_tweets_2017.pkl', 'rb'))"
   ]
  },
  {
   "cell_type": "code",
   "execution_count": null,
   "metadata": {},
   "outputs": [],
   "source": [
    "tweets == jdata"
   ]
  },
  {
   "cell_type": "markdown",
   "metadata": {},
   "source": [
    "Or with `pandas`:"
   ]
  },
  {
   "cell_type": "code",
   "execution_count": null,
   "metadata": {},
   "outputs": [],
   "source": [
    "tweets_df_pickle = pd.read_pickle('data/trump_tweets_2017.pkl')\n",
    "tweets_df_pickle.head()"
   ]
  },
  {
   "cell_type": "markdown",
   "metadata": {},
   "source": [
    "## Our first program: pulling it all together\n",
    "\n",
    "The final step in our whirlwind tour of Python is to pull our code together into a single \"program\" (i.e., a collection of functions that, when executed, perform a task). We will stick with our Twitter example.\n",
    "\n",
    "<b>Example 6</b>: Write a Python program that reads a CSV file of Tweets, searches for a particular keyword, and returns the relevant Tweets."
   ]
  },
  {
   "cell_type": "code",
   "execution_count": null,
   "metadata": {},
   "outputs": [],
   "source": [
    "# Import dependencies\n",
    "import csv\n",
    "\n",
    "# Let's write a function to read a CSV file\n",
    "def read_csv(path):\n",
    "    '''This function takes an (absolute) path to a CSV file and\n",
    "       returns a utf-8 encoded list of tweets and the header of\n",
    "       field \"labels\" associated with the CSV. Note that we assume\n",
    "       that the first row of the input file is the header.\n",
    "    \n",
    "       Arguments:\n",
    "       ----------\n",
    "       path: absolute path to the CSV file.\n",
    "       \n",
    "      \n",
    "       Returns:\n",
    "       --------\n",
    "       A dictionary with the header labels and the Tweets.\n",
    "    '''\n",
    "    \n",
    "    with open(path, 'r') as csvfile:\n",
    "        # Connect to file\n",
    "        csvreader = csv.reader(csvfile)\n",
    "\n",
    "        # Read the tweets\n",
    "        tweets = [row for row in csvreader]\n",
    "    \n",
    "    return {'header': tweets[0], 'tweets': tweets[1:]}\n",
    "\n",
    "\n",
    "# See if a tweet includes the relevant keyword\n",
    "def lookup(tweet, keyword):\n",
    "    '''This function takes a tweet and keyword, and returns True if the \n",
    "       keyword is present and False otherwise.\n",
    "       \n",
    "       Arguments:\n",
    "       ----------\n",
    "       tweet: The text of a Tweet\n",
    "       keyword: The keyword of interest to lookup\n",
    "       \n",
    "       Returns:\n",
    "       --------\n",
    "       True if the keyword is present and False otherwise\n",
    "    '''\n",
    "    \n",
    "    # Standardize keyword and Tweet to use lowercase\n",
    "    if keyword.lower() in tweet.lower():\n",
    "        return True\n",
    "    else:\n",
    "        return False\n",
    "\n",
    "\n",
    "# Main function to search a CSV of tweets\n",
    "def search_tweets(keyword, path, text_idx = 2):\n",
    "    '''This function takes a keyword and absolute path to\n",
    "       to a CSV file of Tweets and returns a new list of\n",
    "       Tweets that contain the keyword.\n",
    "       \n",
    "       Arguments:\n",
    "       ----------\n",
    "       keyword:  The keyword of interest to lookup in the Tweet\n",
    "       path: The absolute path to the CSV file holding the Tweets\n",
    "       text_idx: Is the index for the element holding the Tweet text\n",
    "                 (defaults to index = 2)\n",
    "    '''\n",
    "    \n",
    "    # Read CSV content\n",
    "    content = read_csv(path)\n",
    "    \n",
    "    # Search Tweets for keyword\n",
    "    key_tweets = [tweet for tweet in content['tweets'] \n",
    "                  if lookup(tweet[text_idx], keyword) == True]\n",
    "    \n",
    "    print('Found %s tweets about %s' % (len(key_tweets), keyword))\n",
    "    \n",
    "    return key_tweets\n"
   ]
  },
  {
   "cell_type": "markdown",
   "metadata": {},
   "source": [
    "We can now execute the `search_tweets` function to search a CSV of Tweets for a particular keyword:"
   ]
  },
  {
   "cell_type": "code",
   "execution_count": null,
   "metadata": {},
   "outputs": [],
   "source": [
    "res = search_tweets('CNN', 'data/trump_tweets_2017.csv')"
   ]
  },
  {
   "cell_type": "markdown",
   "metadata": {},
   "source": [
    "And we can inspect the individual Tweets as per usual:"
   ]
  },
  {
   "cell_type": "code",
   "execution_count": null,
   "metadata": {},
   "outputs": [],
   "source": [
    "print(res[0])"
   ]
  },
  {
   "cell_type": "markdown",
   "metadata": {},
   "source": [
    "## You try!\n",
    "\n",
    "Let's reinforce our Python programming skills with an in-class activity. We will use the `facebook_ads_climate.csv` data, which is a random sample of 500 Facebook advertisements related to climate change in the U.S. The data was collected via the (Meta Ads Library) [https://www.facebook.com/ads/library/api/], which allows you to collect \"all active and inactive ads about social issues, elections or politics\". Using these data, please do the following tasks:\n",
    "\n",
    "1. Load the `facebook_ads_climate.csv` using `pandas`. Use the `head` function to view the first 10 rows of the data. **Note**: when reading the CSV file, please be sure to add the argument `keep_default_na=False`.\n",
    "\n",
    "2. Convert the loaded `DataFrame` to a \"list of dictionaries\". Print the length of this list and ensure that it is equal to 500.\n",
    "\n",
    "3. Let's see how many of the sampled ads are related to \"energy\". To do so, loop over the `ad_creative_body` text and complete the following:\n",
    "    + Convert the text to lowercase.\n",
    "    + Check if the text includes word \"energy\". If yes, add a new field (or variable) to each row named \"energy\" that is equal to 1; otherwise, set the value of the \"energy\" equal to 0.\n",
    "\n",
    "4. Convert your \"list of dictionaries\" back to a pandas data frame using the `pd.DataFrame()` function. Use the `value_counts` function to count how many of the ads are about energy.\n",
    "\n",
    "5. Use `pandas` to export your new dataset as a CSV to disk."
   ]
  },
  {
   "cell_type": "code",
   "execution_count": null,
   "metadata": {
    "scrolled": true
   },
   "outputs": [],
   "source": [
    "#1. Load the facebook_ads_climate.csv using pandas. Use the head function to view the first 10 rows of the data.\n",
    "\n"
   ]
  },
  {
   "cell_type": "code",
   "execution_count": null,
   "metadata": {},
   "outputs": [],
   "source": [
    "#2. Convert the loaded DataFrame to a \"list of dictionaries\". Print the length of this list and ensure that it is equal to 500.\n",
    "\n"
   ]
  },
  {
   "cell_type": "code",
   "execution_count": null,
   "metadata": {},
   "outputs": [],
   "source": [
    "#3. Let's see how many of the sampled ads are related to \"energy\".\n",
    "\n"
   ]
  },
  {
   "cell_type": "code",
   "execution_count": null,
   "metadata": {},
   "outputs": [],
   "source": [
    "#4. Convert your \"list of dictionaries\" back to a pandas data frame using the pd.DataFrame() function. Use the value_counts function to count how many of the ads are about energy.\n",
    "\n"
   ]
  },
  {
   "cell_type": "code",
   "execution_count": null,
   "metadata": {},
   "outputs": [],
   "source": [
    "#5. Use pandas to export your new dataset as a CSV to disk.\n",
    "\n"
   ]
  },
  {
   "cell_type": "markdown",
   "metadata": {},
   "source": [
    "## Object oriented programming (optional material if we have time!)\n",
    "\n",
    "In the geekier corners of the internet (or the University campus), there's an on-going debate on the benefits and drawbacks of functional progamming (FP) versus object oriented programming (OOP). You can ignore these debates! However, when using Python, you will often run into the use of \"<b>classes</b>\" and thus it is important to have some knowledge of what a \"class\" is. Providing the knowledge is the goal of this section. (Note: for an excellent introduction to classes in Python, see <i>Byte of Python</i> chapter on <a href=\"https://python.swaroopch.com/oop.html\">Object Oriented Programming</a>.)\n",
    "\n",
    "We have actually already run into classes. For instance, the `csv.reader`code that we used to import a CSV file above, is a \"class.\" "
   ]
  },
  {
   "cell_type": "code",
   "execution_count": null,
   "metadata": {},
   "outputs": [],
   "source": [
    "print(csvreader)"
   ]
  },
  {
   "cell_type": "code",
   "execution_count": null,
   "metadata": {},
   "outputs": [],
   "source": [
    "\"Good bye Donald!\".lower()"
   ]
  },
  {
   "cell_type": "markdown",
   "metadata": {},
   "source": [
    "This tells us that the `csvreader` that we assigned above is an object of the UnicodeReader `class`. Great, but what does all this actually mean?\n",
    "\n",
    "### The `class` function\n",
    "\n",
    "OOP is a paradigm of programming built on the idea of classes of <b>objects</b>---i.e., a structure that holds data (often referred to as \"attributes\" and functions or procedures (often referred as \"methods\"). As an example, say we were interested in defining \"classes\" of people walking around this university. There are different types of people and these people do different things. We can define a `professor` class as follows:"
   ]
  },
  {
   "cell_type": "code",
   "execution_count": null,
   "metadata": {},
   "outputs": [],
   "source": [
    "# Define the \"professor\" class. \n",
    "class professor:\n",
    "    pass"
   ]
  },
  {
   "cell_type": "code",
   "execution_count": null,
   "metadata": {},
   "outputs": [],
   "source": [
    "prof = professor()"
   ]
  },
  {
   "cell_type": "code",
   "execution_count": null,
   "metadata": {},
   "outputs": [],
   "source": [
    "print(prof)"
   ]
  },
  {
   "cell_type": "markdown",
   "metadata": {},
   "source": [
    "We now have a professor class, but they don't actually do anything. We can add a <b>method</b>, as follows:"
   ]
  },
  {
   "cell_type": "code",
   "execution_count": null,
   "metadata": {},
   "outputs": [],
   "source": [
    "# Define the \"professor\" class. \n",
    "class professor:\n",
    "    def pontificate(self):\n",
    "        print(\"I'm a professor. Blah, blah, blah.\")\n",
    "        "
   ]
  },
  {
   "cell_type": "markdown",
   "metadata": {},
   "source": [
    "Now our professor does what professors do best: pontificate! We can now instantiate our class and call the `pontificate` method:"
   ]
  },
  {
   "cell_type": "code",
   "execution_count": null,
   "metadata": {},
   "outputs": [],
   "source": [
    "prof = professor()"
   ]
  },
  {
   "cell_type": "code",
   "execution_count": null,
   "metadata": {},
   "outputs": [],
   "source": [
    "prof.pontificate()"
   ]
  },
  {
   "cell_type": "code",
   "execution_count": null,
   "metadata": {},
   "outputs": [],
   "source": [
    "# Initialize class\n",
    "travis = professor()\n",
    "\n",
    "# Call method\n",
    "travis.pontificate()"
   ]
  },
  {
   "cell_type": "markdown",
   "metadata": {},
   "source": [
    "Great, but we still have a bunch of unanswered questions? What's this `self` thingy? How do I store and pass <b>attributes</b> to my professor class? Let's start with the second question. Say we wanted to add two attributes to our professor `class`: a `name` and `subject` attribute. "
   ]
  },
  {
   "cell_type": "code",
   "execution_count": null,
   "metadata": {},
   "outputs": [],
   "source": [
    "# Define the \"professor\" class. \n",
    "class professor:\n",
    "    def __init__(self, name, subject):\n",
    "        self.name = name\n",
    "        self.subject = subject\n",
    "    \n",
    "    def pontificate(self):\n",
    "        print(\"My name is %s. I teach %s. Blah, blah, blah.\" % (self.name, self.subject))"
   ]
  },
  {
   "cell_type": "markdown",
   "metadata": {},
   "source": [
    "As shown above, we can add attributes to our class by defining a `__init__` method and then attaching the `self` object. Now if we instantiate and call `pontificate`:"
   ]
  },
  {
   "cell_type": "code",
   "execution_count": null,
   "metadata": {},
   "outputs": [],
   "source": [
    "# Intialize class\n",
    "travis = professor('jason', 'public opinion')\n",
    "print(travis)\n",
    "# Call method\n",
    "#travis.pontificate()"
   ]
  },
  {
   "cell_type": "markdown",
   "metadata": {},
   "source": [
    "Again, it is not super important for you to understand how classes work for this class (no pun intended!). You just need to know that they exist, you initialize them with a set of attributes, and then \"use\" them by calling their methods."
   ]
  }
 ],
 "metadata": {
  "kernelspec": {
   "display_name": "Python 3 (ipykernel)",
   "language": "python",
   "name": "python3"
  },
  "language_info": {
   "codemirror_mode": {
    "name": "ipython",
    "version": 3
   },
   "file_extension": ".py",
   "mimetype": "text/x-python",
   "name": "python",
   "nbconvert_exporter": "python",
   "pygments_lexer": "ipython3",
   "version": "3.9.13"
  }
 },
 "nbformat": 4,
 "nbformat_minor": 2
}
