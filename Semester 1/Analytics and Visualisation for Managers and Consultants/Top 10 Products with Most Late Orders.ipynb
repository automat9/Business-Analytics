{
 "cells": [
  {
   "cell_type": "code",
   "execution_count": 9,
   "id": "e4cee799",
   "metadata": {},
   "outputs": [
    {
     "name": "stdout",
     "output_type": "stream",
     "text": [
      "Requirement already satisfied: openpyxl in d:\\anaconda\\lib\\site-packages (3.0.10)\n",
      "Collecting openpyxl\n",
      "  Downloading openpyxl-3.1.5-py2.py3-none-any.whl.metadata (2.5 kB)\n",
      "Requirement already satisfied: et-xmlfile in d:\\anaconda\\lib\\site-packages (from openpyxl) (1.1.0)\n",
      "Downloading openpyxl-3.1.5-py2.py3-none-any.whl (250 kB)\n",
      "   ---------------------------------------- 0.0/250.9 kB ? eta -:--:--\n",
      "   ---------------------------------------- 0.0/250.9 kB ? eta -:--:--\n",
      "   ---- ---------------------------------- 30.7/250.9 kB 435.7 kB/s eta 0:00:01\n",
      "   ------------------- -------------------- 122.9/250.9 kB 1.2 MB/s eta 0:00:01\n",
      "   ---------------------------------------- 250.9/250.9 kB 1.9 MB/s eta 0:00:00\n",
      "Installing collected packages: openpyxl\n",
      "  Attempting uninstall: openpyxl\n",
      "    Found existing installation: openpyxl 3.0.10\n",
      "    Uninstalling openpyxl-3.0.10:\n",
      "      Successfully uninstalled openpyxl-3.0.10\n",
      "Successfully installed openpyxl-3.1.5\n"
     ]
    },
    {
     "name": "stderr",
     "output_type": "stream",
     "text": [
      "  WARNING: Failed to remove contents in a temporary directory 'D:\\Anaconda\\Lib\\site-packages\\~penpyxl'.\n",
      "  You can safely remove it manually.\n"
     ]
    }
   ],
   "source": [
    "!pip install --upgrade openpyxl"
   ]
  },
  {
   "cell_type": "code",
   "execution_count": 12,
   "id": "c0b11966",
   "metadata": {},
   "outputs": [
    {
     "data": {
      "text/html": [
       "\n",
       "        <iframe\n",
       "            width=\"100%\"\n",
       "            height=\"650\"\n",
       "            src=\"http://127.0.0.1:8051/\"\n",
       "            frameborder=\"0\"\n",
       "            allowfullscreen\n",
       "            \n",
       "        ></iframe>\n",
       "        "
      ],
      "text/plain": [
       "<IPython.lib.display.IFrame at 0x2b074698310>"
      ]
     },
     "metadata": {},
     "output_type": "display_data"
    }
   ],
   "source": []
  },
  {
   "cell_type": "code",
   "execution_count": 13,
   "id": "a1de4caa",
   "metadata": {
    "scrolled": true
   },
   "outputs": [
    {
     "data": {
      "text/html": [
       "\n",
       "        <iframe\n",
       "            width=\"100%\"\n",
       "            height=\"650\"\n",
       "            src=\"http://127.0.0.1:8051/\"\n",
       "            frameborder=\"0\"\n",
       "            allowfullscreen\n",
       "            \n",
       "        ></iframe>\n",
       "        "
      ],
      "text/plain": [
       "<IPython.lib.display.IFrame at 0x2b06cbc6fd0>"
      ]
     },
     "metadata": {},
     "output_type": "display_data"
    }
   ],
   "source": [
    "from dash import Dash, dcc, html\n",
    "import plotly.express as px\n",
    "import pandas as pd\n",
    "\n",
    "file_path = r\"C:\\Users\\10\\Desktop\\Supply chain logisitcs problem.xlsx\"\n",
    "\n",
    "# Load and prepare data\n",
    "top_10_products_df = (\n",
    "    pd.read_excel(file_path, sheet_name='OrderList')\n",
    "    .query('`Ship Late Day count` > 0')\n",
    "    .assign(**{'Product ID': lambda df: df['Product ID'].astype(str)})\n",
    "    ['Product ID']\n",
    "    .value_counts()\n",
    "    .nlargest(10)\n",
    "    .reset_index(name='Late Order Count')\n",
    "    .rename(columns={'index': 'Product ID'})\n",
    ")\n",
    "\n",
    "# Initialise the Dash app\n",
    "app = Dash(__name__)\n",
    "\n",
    "# Define the layout of the app\n",
    "app.layout = html.Div([\n",
    "    html.H1(\"Top 10 Products with Most Late Orders\"),\n",
    "    dcc.Graph(\n",
    "        id='late-orders-bar-chart',\n",
    "        figure=px.bar(\n",
    "            top_10_products_df,\n",
    "            x='Product ID',\n",
    "            y='Late Order Count',\n",
    "            title='Top 10 Products with Most Late Orders',\n",
    "            labels={'Product ID': 'Product ID', 'Late Order Count': 'Number of Late Orders'}\n",
    "        ).update_traces(marker_color='steelblue')\n",
    "    )\n",
    "])\n",
    "\n",
    "# Run the app\n",
    "app.run_server(mode='inline', port=8051, dev_tools_ui=True, dev_tools_props_check=True)\n",
    "\n"
   ]
  }
 ],
 "metadata": {
  "kernelspec": {
   "display_name": "Python 3 (ipykernel)",
   "language": "python",
   "name": "python3"
  },
  "language_info": {
   "codemirror_mode": {
    "name": "ipython",
    "version": 3
   },
   "file_extension": ".py",
   "mimetype": "text/x-python",
   "name": "python",
   "nbconvert_exporter": "python",
   "pygments_lexer": "ipython3",
   "version": "3.11.7"
  }
 },
 "nbformat": 4,
 "nbformat_minor": 5
}
