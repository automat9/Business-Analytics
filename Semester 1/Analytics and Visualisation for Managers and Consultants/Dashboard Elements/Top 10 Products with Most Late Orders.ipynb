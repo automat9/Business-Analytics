{
 "cells": [
  {
   "cell_type": "code",
   "execution_count": 22,
   "id": "a1de4caa",
   "metadata": {
    "scrolled": true
   },
   "outputs": [
    {
     "data": {
      "text/html": [
       "\n",
       "        <iframe\n",
       "            width=\"100%\"\n",
       "            height=\"650\"\n",
       "            src=\"http://127.0.0.1:8051/\"\n",
       "            frameborder=\"0\"\n",
       "            allowfullscreen\n",
       "            \n",
       "        ></iframe>\n",
       "        "
      ],
      "text/plain": [
       "<IPython.lib.display.IFrame at 0x2b0745cf590>"
      ]
     },
     "metadata": {},
     "output_type": "display_data"
    }
   ],
   "source": [
    "#Import relevant libraries\n",
    "from dash import Dash, dcc, html\n",
    "import plotly.express as px\n",
    "import pandas as pd\n",
    "\n",
    "# File location\n",
    "url = \"https://raw.githubusercontent.com/automat9/Business-Analytics/master/Semester%201/Analytics%20and%20Visualisation%20for%20Managers%20and%20Consultants/data.xlsx\"\n",
    "\n",
    "# Load and prepare data\n",
    "top_10_products_df = (\n",
    "    pd.read_excel(url, sheet_name='OrderList')\n",
    "    .query('`Ship Late Day count` > 0')\n",
    "    .assign(**{'Product ID': lambda df: df['Product ID'].astype(str)})\n",
    "    ['Product ID']\n",
    "    .value_counts()\n",
    "    .nlargest(10)\n",
    "    .reset_index(name='Late Order Count')\n",
    "    .rename(columns={'index': 'Product ID'})\n",
    ")\n",
    "\n",
    "# Initialise the Dash app\n",
    "app = Dash(__name__)\n",
    "\n",
    "# Define the layout of the app\n",
    "app.layout = html.Div([\n",
    "    dcc.Graph(\n",
    "        id='late-orders-bar-chart',\n",
    "        figure=px.bar(\n",
    "            top_10_products_df,\n",
    "            x='Product ID',\n",
    "            y='Late Order Count',\n",
    "            title='Top 10 Products with Most Late Orders',\n",
    "            labels={'Product ID': 'Product ID', 'Late Order Count': 'Number of Late Orders'}\n",
    "        ).update_traces(marker_color='steelblue')\n",
    "    )\n",
    "])\n",
    "\n",
    "# Run the app\n",
    "app.run_server(mode='inline', port=8051, dev_tools_ui=True, dev_tools_props_check=True)\n",
    "\n"
   ]
  }
 ],
 "metadata": {
  "kernelspec": {
   "display_name": "Python 3 (ipykernel)",
   "language": "python",
   "name": "python3"
  },
  "language_info": {
   "codemirror_mode": {
    "name": "ipython",
    "version": 3
   },
   "file_extension": ".py",
   "mimetype": "text/x-python",
   "name": "python",
   "nbconvert_exporter": "python",
   "pygments_lexer": "ipython3",
   "version": "3.11.7"
  }
 },
 "nbformat": 4,
 "nbformat_minor": 5
}
