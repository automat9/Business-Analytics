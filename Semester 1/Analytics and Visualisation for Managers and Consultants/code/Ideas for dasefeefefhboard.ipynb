{
 "cells": [
  {
   "cell_type": "code",
   "execution_count": 19,
   "id": "f040cd78",
   "metadata": {},
   "outputs": [
    {
     "data": {
      "text/html": [
       "\n",
       "        <iframe\n",
       "            width=\"100%\"\n",
       "            height=\"650\"\n",
       "            src=\"http://127.0.0.1:8026/\"\n",
       "            frameborder=\"0\"\n",
       "            allowfullscreen\n",
       "            \n",
       "        ></iframe>\n",
       "        "
      ],
      "text/plain": [
       "<IPython.lib.display.IFrame at 0x1f2429dd250>"
      ]
     },
     "metadata": {},
     "output_type": "display_data"
    }
   ],
   "source": [
    "# Orders handled by carrier (pie chart)\n",
    "\n",
    "\n",
    "import dash\n",
    "from dash import dcc, html\n",
    "import pandas as pd\n",
    "import plotly.express as px\n",
    "\n",
    "# Load the dataset\n",
    "file_path = \"https://github.com/automat9/Business-Analytics/raw/master/Semester%201/Analytics%20and%20Visualisation%20for%20Managers%20and%20Consultants/datasets/data.xlsx\"\n",
    "data = pd.read_excel(file_path)\n",
    "\n",
    "# Calculate the number of orders handled by each carrier\n",
    "carrier_order_counts = data.groupby('Carrier').size().reset_index(name='Order Count')\n",
    "\n",
    "# Create a pie chart\n",
    "fig = px.pie(\n",
    "    carrier_order_counts,\n",
    "    names='Carrier',\n",
    "    values='Order Count',\n",
    "    title=\"Number of Orders Handled by Each Carrier\"\n",
    ")\n",
    "\n",
    "# Initialize Dash app\n",
    "app = dash.Dash(__name__)\n",
    "\n",
    "# Define layout\n",
    "app.layout = html.Div([\n",
    "    html.H1(\"Carrier Order Distribution\"),\n",
    "    dcc.Graph(id='pie-chart', figure=fig)\n",
    "])\n",
    "\n",
    "# Run app\n",
    "if __name__ == '__main__':\n",
    "    app.run_server(debug=True, port=8026)\n"
   ]
  },
  {
   "cell_type": "code",
   "execution_count": 20,
   "id": "e7e5c51c",
   "metadata": {},
   "outputs": [
    {
     "data": {
      "text/html": [
       "\n",
       "        <iframe\n",
       "            width=\"100%\"\n",
       "            height=\"650\"\n",
       "            src=\"http://127.0.0.1:8032/\"\n",
       "            frameborder=\"0\"\n",
       "            allowfullscreen\n",
       "            \n",
       "        ></iframe>\n",
       "        "
      ],
      "text/plain": [
       "<IPython.lib.display.IFrame at 0x1f242907810>"
      ]
     },
     "metadata": {},
     "output_type": "display_data"
    }
   ],
   "source": [
    "# Chance of late delivery by carrier (bar chart) \n",
    "\n",
    "import dash\n",
    "from dash import dcc, html\n",
    "import pandas as pd\n",
    "import plotly.express as px\n",
    "\n",
    "# Load the dataset\n",
    "file_path = \"https://github.com/automat9/Business-Analytics/raw/master/Semester%201/Analytics%20and%20Visualisation%20for%20Managers%20and%20Consultants/datasets/data.xlsx\"\n",
    "data = pd.read_excel(file_path)\n",
    "\n",
    "# Calculate the number of total deliveries and late deliveries for each carrier\n",
    "carrier_totals = data.groupby('Carrier').size().reset_index(name='Total Deliveries')\n",
    "carrier_late = data[data['Ship Late Day count'] > 0].groupby('Carrier').size().reset_index(name='Late Deliveries')\n",
    "\n",
    "# Merge the two dataframes to calculate the late delivery likelihood\n",
    "carrier_stats = pd.merge(carrier_totals, carrier_late, on='Carrier', how='left')\n",
    "carrier_stats['Late Deliveries'] = carrier_stats['Late Deliveries'].fillna(0)  # Fill NaN for carriers with no late deliveries\n",
    "carrier_stats['Late Delivery Likelihood (%)'] = (carrier_stats['Late Deliveries'] / carrier_stats['Total Deliveries']) * 100\n",
    "\n",
    "# Create a bar chart for late delivery likelihood by carrier\n",
    "fig = px.bar(\n",
    "    carrier_stats,\n",
    "    x='Carrier',\n",
    "    y='Late Delivery Likelihood (%)',\n",
    "    title=\"Likelihood of Late Delivery by Carrier\",\n",
    "    labels={'Late Delivery Likelihood (%)': 'Likelihood of Late Delivery (%)'},\n",
    "    text='Late Delivery Likelihood (%)'\n",
    ")\n",
    "\n",
    "# Set bar color and add data labels for clarity\n",
    "fig.update_traces(marker_color='coral', texttemplate='%{text:.2f}%', textposition='outside')\n",
    "\n",
    "# Initialize Dash app\n",
    "app = dash.Dash(__name__)\n",
    "\n",
    "# Define layout\n",
    "app.layout = html.Div([\n",
    "    html.H1(\"Carrier Efficiency Analysis\"),\n",
    "    dcc.Graph(id='late-delivery-bar-chart', figure=fig)\n",
    "])\n",
    "\n",
    "# Run app\n",
    "if __name__ == '__main__':\n",
    "    app.run_server(debug=True, port=8032)\n",
    "\n"
   ]
  },
  {
   "cell_type": "code",
   "execution_count": 21,
   "id": "31e128f8",
   "metadata": {},
   "outputs": [
    {
     "data": {
      "text/html": [
       "\n",
       "        <iframe\n",
       "            width=\"100%\"\n",
       "            height=\"650\"\n",
       "            src=\"http://127.0.0.1:8091/\"\n",
       "            frameborder=\"0\"\n",
       "            allowfullscreen\n",
       "            \n",
       "        ></iframe>\n",
       "        "
      ],
      "text/plain": [
       "<IPython.lib.display.IFrame at 0x1f2425c6f50>"
      ]
     },
     "metadata": {},
     "output_type": "display_data"
    }
   ],
   "source": [
    "# Top 20 products by late dispatch (bar chart)\n",
    "\n",
    "\n",
    "# Import libraries\n",
    "from dash import Dash, dcc, html\n",
    "import plotly.express as px\n",
    "import pandas as pd\n",
    "\n",
    "# File location\n",
    "url = \"https://github.com/automat9/Business-Analytics/raw/master/Semester%201/Analytics%20and%20Visualisation%20for%20Managers%20and%20Consultants/datasets/data.xlsx\"\n",
    "# Load and prepare data\n",
    "top_10_products_df = (\n",
    "    pd.read_excel(url, sheet_name='OrderList')\n",
    "    .query('`Ship Late Day count` > 0')\n",
    "    .assign(**{'Product ID': lambda df: df['Product ID'].astype(str)})\n",
    "    ['Product ID']\n",
    "    .value_counts()\n",
    "    .nlargest(20)\n",
    "    .reset_index(name='Late Order Count')\n",
    "    .rename(columns={'index': 'Product ID'})\n",
    ")\n",
    "\n",
    "# Initialise the Dash app\n",
    "app = Dash(__name__)\n",
    "\n",
    "# Define the layout of the app\n",
    "app.layout = html.Div([\n",
    "    dcc.Graph(\n",
    "        id='late-orders-bar-chart',\n",
    "        figure=px.bar(\n",
    "            top_10_products_df,\n",
    "            x='Product ID',\n",
    "            y='Late Order Count',\n",
    "            title='Products by Most Late Orders',\n",
    "            labels={'Product ID': 'Product ID', 'Late Order Count': 'Number of Late Orders'}\n",
    "        ).update_traces(marker_color='steelblue')\n",
    "    )\n",
    "])\n",
    "\n",
    "# Run the app\n",
    "app.run_server(mode='inline', port=8091, dev_tools_ui=True, dev_tools_props_check=True)"
   ]
  },
  {
   "cell_type": "code",
   "execution_count": 22,
   "id": "79a48011",
   "metadata": {},
   "outputs": [
    {
     "data": {
      "text/html": [
       "\n",
       "        <iframe\n",
       "            width=\"100%\"\n",
       "            height=\"650\"\n",
       "            src=\"http://127.0.0.1:8036/\"\n",
       "            frameborder=\"0\"\n",
       "            allowfullscreen\n",
       "            \n",
       "        ></iframe>\n",
       "        "
      ],
      "text/plain": [
       "<IPython.lib.display.IFrame at 0x1f23a00bcd0>"
      ]
     },
     "metadata": {},
     "output_type": "display_data"
    }
   ],
   "source": [
    "# Orders handled by port (bar chart)\n",
    "\n",
    "import dash\n",
    "from dash import dcc, html\n",
    "import pandas as pd\n",
    "import plotly.express as px\n",
    "\n",
    "# Load the dataset\n",
    "file_path = \"https://github.com/automat9/Business-Analytics/raw/master/Semester%201/Analytics%20and%20Visualisation%20for%20Managers%20and%20Consultants/datasets/data.xlsx\"\n",
    "data = pd.read_excel(file_path)\n",
    "\n",
    "# Group data by Origin Port and count the number of orders\n",
    "orders_by_origin_port = data.groupby('Origin Port').size().reset_index(name='Number of Orders')\n",
    "\n",
    "# Initialize Dash app\n",
    "app = dash.Dash(__name__)\n",
    "\n",
    "# Define layout\n",
    "app.layout = html.Div([\n",
    "    html.H1(\"Number of Orders per Origin Port\"),\n",
    "    dcc.Graph(\n",
    "        id='origin-port-orders-bar-chart',\n",
    "        figure=px.bar(\n",
    "            orders_by_origin_port,\n",
    "            x='Origin Port',\n",
    "            y='Number of Orders',\n",
    "            title=\"Number of Orders per Origin Port\",\n",
    "            labels={'Number of Orders': 'Orders'},\n",
    "            text='Number of Orders'\n",
    "        ).update_traces(texttemplate='%{text}', textposition='outside')\n",
    "    )\n",
    "])\n",
    "\n",
    "if __name__ == '__main__':\n",
    "    app.run_server(debug=True, port=8036)"
   ]
  },
  {
   "cell_type": "code",
   "execution_count": 23,
   "id": "bced3b09",
   "metadata": {},
   "outputs": [
    {
     "data": {
      "text/html": [
       "\n",
       "        <iframe\n",
       "            width=\"100%\"\n",
       "            height=\"650\"\n",
       "            src=\"http://127.0.0.1:8011/\"\n",
       "            frameborder=\"0\"\n",
       "            allowfullscreen\n",
       "            \n",
       "        ></iframe>\n",
       "        "
      ],
      "text/plain": [
       "<IPython.lib.display.IFrame at 0x1f242583e50>"
      ]
     },
     "metadata": {},
     "output_type": "display_data"
    }
   ],
   "source": [
    "import dash\n",
    "from dash import dcc, html\n",
    "import pandas as pd\n",
    "import plotly.graph_objects as go\n",
    "\n",
    "# Load the dataset\n",
    "file_path = \"https://github.com/automat9/Business-Analytics/raw/master/Semester%201/Analytics%20and%20Visualisation%20for%20Managers%20and%20Consultants/datasets/data.xlsx\"\n",
    "data = pd.read_excel(file_path)\n",
    "\n",
    "# Calculate total deliveries and on-time/ahead deliveries\n",
    "total_deliveries = len(data)\n",
    "on_time_or_ahead_deliveries = len(data[(data['Ship Late Day count'] <= 0)])\n",
    "\n",
    "# Calculate the percentage of on-time or ahead deliveries\n",
    "on_time_or_ahead_percentage = (on_time_or_ahead_deliveries / total_deliveries) * 100\n",
    "\n",
    "# Create the gauge chart\n",
    "fig = go.Figure(go.Indicator(\n",
    "    mode=\"gauge+number\",\n",
    "    value=on_time_or_ahead_percentage,\n",
    "    title={'text': \"Percentage of On-Time or Ahead Deliveries\"},\n",
    "    gauge={\n",
    "        'axis': {'range': [0, 100]},\n",
    "        'bar': {'color': \"blue\"},\n",
    "        'steps': [\n",
    "            {'range': [0, 50], 'color': \"lightcoral\"},\n",
    "            {'range': [50, 100], 'color': \"lightgreen\"}\n",
    "        ]\n",
    "    }\n",
    "))\n",
    "\n",
    "# Initialize Dash app\n",
    "app = dash.Dash(__name__)\n",
    "\n",
    "# Define layout\n",
    "app.layout = html.Div([\n",
    "    html.H1(\"On-Time or Ahead Delivery Performance\"),\n",
    "    dcc.Graph(id='gauge-chart', figure=fig)\n",
    "])\n",
    "\n",
    "# Run app\n",
    "if __name__ == '__main__':\n",
    "    app.run_server(debug=True, port=8011)"
   ]
  }
 ],
 "metadata": {
  "kernelspec": {
   "display_name": "Python 3 (ipykernel)",
   "language": "python",
   "name": "python3"
  },
  "language_info": {
   "codemirror_mode": {
    "name": "ipython",
    "version": 3
   },
   "file_extension": ".py",
   "mimetype": "text/x-python",
   "name": "python",
   "nbconvert_exporter": "python",
   "pygments_lexer": "ipython3",
   "version": "3.11.4"
  }
 },
 "nbformat": 4,
 "nbformat_minor": 5
}
